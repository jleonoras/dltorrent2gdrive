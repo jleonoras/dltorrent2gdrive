{
  "cells": [
    {
      "cell_type": "markdown",
      "metadata": {
        "id": "TbAJETTlzaYQ"
      },
      "source": [
        "# Download Torrent to Google Drive"
      ]
    },
    {
      "cell_type": "markdown",
      "metadata": {
        "id": "c_T2GOpTz8_5"
      },
      "source": [
        "### 1. Install libtorrent Dependency"
      ]
    },
    {
      "cell_type": "code",
      "execution_count": null,
      "metadata": {
        "id": "sYbnf6eAzOO2"
      },
      "outputs": [],
      "source": [
        "!apt install -y python3-libtorrent\n",
        "\n",
        "import libtorrent as lt\n",
        "\n",
        "ses = lt.session({'listen_interfaces': '0.0.0.0:6881'})"
      ]
    },
    {
      "cell_type": "markdown",
      "metadata": {
        "id": "LasH_tqm0u79"
      },
      "source": [
        "### 2. Mount Google Drive"
      ]
    },
    {
      "cell_type": "code",
      "execution_count": null,
      "metadata": {
        "id": "XOyL0TRi0z7t"
      },
      "outputs": [],
      "source": [
        "from google.colab import drive, files\n",
        "\n",
        "drive.mount(\"/content/drive\")"
      ]
    },
    {
      "cell_type": "markdown",
      "metadata": {
        "id": "TmZF8Zgx1Ham"
      },
      "source": [
        "## 3. Add Torrent Source\n",
        "\n"
      ]
    },
    {
      "cell_type": "code",
      "execution_count": null,
      "metadata": {
        "id": "UuPAl-AM2git"
      },
      "outputs": [],
      "source": [
        "# Add torrents from multiple magnet links or .torrent files\n",
        "downloads = []\n",
        "\n",
        "while True:\n",
        "    source = input(\"Enter a magnet link or type 'file' to upload a .torrent file or 'exit' to stop: \")\n",
        "\n",
        "    if source.lower() == 'exit':\n",
        "        break\n",
        "    elif source.lower() == 'file':\n",
        "        uploaded = files.upload()\n",
        "        info = lt.torrent_info(list(uploaded.keys())[0])\n",
        "        h = ses.add_torrent({'ti': info, 'save_path': '/content/drive/MyDrive/Torrents'})\n",
        "    else:\n",
        "        params = lt.parse_magnet_uri(source)\n",
        "        params.save_path = '/content/drive/MyDrive/Torrents'\n",
        "        h = ses.add_torrent(params)\n",
        "\n",
        "    downloads.append(h)\n",
        "\n",
        "    print('\\nstarting', h.status().name)"
      ]
    },
    {
      "cell_type": "markdown",
      "metadata": {
        "id": "kYrIXnaB3Flx"
      },
      "source": [
        "## 4. Download File"
      ]
    },
    {
      "cell_type": "code",
      "execution_count": null,
      "metadata": {
        "id": "L-VEYJy73Iry"
      },
      "outputs": [],
      "source": [
        "import time\n",
        "from IPython.display import clear_output\n",
        "\n",
        "# Monitor downloads\n",
        "while downloads:\n",
        "    # Clear the output before printing the status\n",
        "    clear_output(wait=True)\n",
        "\n",
        "    next_iteration_downloads = []\n",
        "\n",
        "    for download in downloads:\n",
        "        s = download.status()\n",
        "\n",
        "        state_str = [\n",
        "            'queued',\n",
        "            'checking',\n",
        "            'downloading metadata',\n",
        "            'downloading',\n",
        "            'finished',\n",
        "            'seeding',\n",
        "            'allocating',\n",
        "            'checking fastresume'\n",
        "        ]\n",
        "\n",
        "        print('%.2f%% complete (down: %.1f kB/s up: %.1f kB/s peers: %d) %s %s' % (\n",
        "            s.progress * 100, s.download_rate / 1000, s.upload_rate / 1000,\n",
        "            s.num_peers, state_str[s.state], s.name))\n",
        "\n",
        "        if not download.status().is_seeding:\n",
        "            next_iteration_downloads.append(download)\n",
        "        else:\n",
        "            print('\\n', download.status().name, 'complete')\n",
        "\n",
        "    downloads = next_iteration_downloads\n",
        "\n",
        "    time.sleep(1)"
      ]
    }
  ],
  "metadata": {
    "colab": {
      "provenance": [],
      "toc_visible": true
    },
    "kernelspec": {
      "display_name": "Python 3",
      "name": "python3"
    },
    "language_info": {
      "name": "python"
    }
  },
  "nbformat": 4,
  "nbformat_minor": 0
}