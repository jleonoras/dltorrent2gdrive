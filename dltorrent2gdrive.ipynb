{
  "cells": [
    {
      "cell_type": "markdown",
      "metadata": {
        "id": "TbAJETTlzaYQ"
      },
      "source": [
        "# Download Torrent to Google Drive"
      ]
    },
    {
      "cell_type": "markdown",
      "metadata": {
        "id": "c_T2GOpTz8_5"
      },
      "source": [
        "### 1. Install libtorrent Dependency"
      ]
    },
    {
      "cell_type": "code",
      "execution_count": null,
      "metadata": {
        "id": "sYbnf6eAzOO2"
      },
      "outputs": [],
      "source": [
        "!python -m pip install lbry-libtorrent\n",
        "!apt install python3-libtorrent\n",
        "\n",
        "import libtorrent as lt\n",
        "\n",
        "ses = lt.session({'listen_interfaces': '0.0.0.0:6881'})"
      ]
    },
    {
      "cell_type": "markdown",
      "metadata": {
        "id": "LasH_tqm0u79"
      },
      "source": [
        "### 2. Mount Google Drive"
      ]
    },
    {
      "cell_type": "code",
      "execution_count": null,
      "metadata": {
        "id": "XOyL0TRi0z7t"
      },
      "outputs": [],
      "source": [
        "from google.colab import drive\n",
        "\n",
        "drive.mount(\"/content/drive\")"
      ]
    },
    {
      "cell_type": "markdown",
      "metadata": {
        "id": "TmZF8Zgx1Ham"
      },
      "source": [
        "## 3. Add Torrent Source\n",
        "\n"
      ]
    },
    {
      "cell_type": "markdown",
      "metadata": {
        "id": "hZ4L0xNl1J2l"
      },
      "source": [
        "### [Option #1]"
      ]
    },
    {
      "cell_type": "code",
      "execution_count": null,
      "metadata": {
        "id": "VEpGyrZM1IYP"
      },
      "outputs": [],
      "source": [
        "# @title Upload .torrent file\n",
        "\n",
        "# Upload a torrent file\n",
        "from google.colab import files\n",
        "\n",
        "source = files.upload()\n",
        "info = lt.torrent_info(list(source.keys())[0])\n",
        "h = ses.add_torrent({'ti': info, 'save_path': '/content/drive/MyDrive/Torrents'})\n",
        "\n",
        "print('starting', h.status().name)"
      ]
    },
    {
      "cell_type": "markdown",
      "metadata": {
        "id": "rzjdxuvu2nxV"
      },
      "source": [
        "### [Option #2]"
      ]
    },
    {
      "cell_type": "code",
      "execution_count": null,
      "metadata": {
        "id": "UuPAl-AM2git"
      },
      "outputs": [],
      "source": [
        "# @title Enter Magnet Link Or Type Exit: exit\n",
        "\n",
        "# Add torrents from multiple magnet link\n",
        "downloads = []\n",
        "\n",
        "while True:  \n",
        "    magnet_link = input(\"Enter a magnet link or type 'exit' to stop: \")\n",
        "    \n",
        "    if magnet_link.lower() == 'exit':\n",
        "        break\n",
        "    \n",
        "    params = lt.parse_magnet_uri(magnet_link)\n",
        "    params.save_path = '/content/drive/MyDrive/Torrents'\n",
        "    h = ses.add_torrent(params)\n",
        "    downloads.append(h)\n",
        "    \n",
        "    print('\\nstarting', h.status().name)"
      ]
    },
    {
      "cell_type": "markdown",
      "metadata": {
        "id": "kYrIXnaB3Flx"
      },
      "source": [
        "## 4. Download File"
      ]
    },
    {
      "cell_type": "code",
      "execution_count": null,
      "metadata": {
        "id": "L-VEYJy73Iry"
      },
      "outputs": [],
      "source": [
        "import time\n",
        "import sys\n",
        "\n",
        "for h in downloads:\n",
        "    while (not h.status().is_seeding):\n",
        "        s = h.status()\n",
        "\n",
        "        print('\\r%.2f%% complete (down: %.1f kB/s up: %.1f kB/s peers: %d) %s %s' % (\n",
        "            s.progress * 100, s.download_rate / 1000, s.upload_rate / 1000,\n",
        "            s.num_peers, s.state, s.name), end='')\n",
        "\n",
        "    alerts = ses.pop_alerts()\n",
        "    for a in alerts:\n",
        "        if a.category() & lt.alert.category_t.error_notification:\n",
        "            print('\\n', a)\n",
        "\n",
        "    sys.stdout.flush()\n",
        "\n",
        "    time.sleep(1)\n",
        "\n",
        "print('\\n', h.status().name, 'complete')"
      ]
    }
  ],
  "metadata": {
    "colab": {
      "authorship_tag": "ABX9TyOBOwUZZv09bBUMkx4wyQkR",
      "provenance": [],
      "toc_visible": true
    },
    "kernelspec": {
      "display_name": "Python 3",
      "name": "python3"
    },
    "language_info": {
      "name": "python"
    }
  },
  "nbformat": 4,
  "nbformat_minor": 0
}
