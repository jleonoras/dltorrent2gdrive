{
  "nbformat": 4,
  "nbformat_minor": 0,
  "metadata": {
    "colab": {
      "provenance": [],
      "toc_visible": true,
      "authorship_tag": "ABX9TyOBOwUZZv09bBUMkx4wyQkR"
    },
    "kernelspec": {
      "name": "python3",
      "display_name": "Python 3"
    },
    "language_info": {
      "name": "python"
    }
  },
  "cells": [
    {
      "cell_type": "markdown",
      "source": [
        "# Download Torrent to Google Drive"
      ],
      "metadata": {
        "id": "TbAJETTlzaYQ"
      }
    },
    {
      "cell_type": "markdown",
      "source": [
        "### 1. Install libtorrent Dependency"
      ],
      "metadata": {
        "id": "c_T2GOpTz8_5"
      }
    },
    {
      "cell_type": "code",
      "execution_count": null,
      "metadata": {
        "id": "sYbnf6eAzOO2"
      },
      "outputs": [],
      "source": [
        "!python -m pip install lbry-libtorrent\n",
        "!apt install python3-libtorrent\n",
        "\n",
        "import libtorrent as lt\n",
        "\n",
        "ses = lt.session({'listen_interfaces': '0.0.0.0:6881'})"
      ]
    },
    {
      "cell_type": "markdown",
      "source": [
        "### 2. Mount Google Drive"
      ],
      "metadata": {
        "id": "LasH_tqm0u79"
      }
    },
    {
      "cell_type": "code",
      "source": [
        "from google.colab import drive\n",
        "\n",
        "drive.mount(\"/content/drive\")"
      ],
      "metadata": {
        "id": "XOyL0TRi0z7t",
        "colab": {
          "base_uri": "https://localhost:8080/"
        },
        "outputId": "4dfd6bcb-08bc-453e-925d-736953bf0a13"
      },
      "execution_count": 6,
      "outputs": [
        {
          "output_type": "stream",
          "name": "stdout",
          "text": [
            "Drive already mounted at /content/drive; to attempt to forcibly remount, call drive.mount(\"/content/drive\", force_remount=True).\n"
          ]
        }
      ]
    },
    {
      "cell_type": "markdown",
      "source": [
        "## 3. Add Torrent Source\n",
        "\n"
      ],
      "metadata": {
        "id": "TmZF8Zgx1Ham"
      }
    },
    {
      "cell_type": "markdown",
      "source": [
        "### [Option #1]"
      ],
      "metadata": {
        "id": "hZ4L0xNl1J2l"
      }
    },
    {
      "cell_type": "code",
      "source": [
        "# @title Upload .torrent file\n",
        "\n",
        "# Upload a torrent file\n",
        "from google.colab import files\n",
        "\n",
        "source = files.upload()\n",
        "info = lt.torrent_info(list(source.keys())[0])\n",
        "h = ses.add_torrent({'ti': info, 'save_path': '/content/drive/MyDrive/Torrents'})\n",
        "\n",
        "print('starting', h.status().name)"
      ],
      "metadata": {
        "id": "VEpGyrZM1IYP"
      },
      "execution_count": null,
      "outputs": []
    },
    {
      "cell_type": "markdown",
      "source": [
        "### [Option #2]"
      ],
      "metadata": {
        "id": "rzjdxuvu2nxV"
      }
    },
    {
      "cell_type": "code",
      "source": [
        "# @title Enter Magnet Link Or Type Exit: exit\n",
        "\n",
        "# Add torrents from magnet link\n",
        "while True:\n",
        "    magnet_link = input(\"Enter a magnet link or type 'exit' to stop: \")\n",
        "    if magnet_link.lower() == 'exit':\n",
        "        break\n",
        "    params = lt.parse_magnet_uri(magnet_link)\n",
        "    params.save_path = '/content/drive/MyDrive/Torrents'\n",
        "    h = ses.add_torrent(params)\n",
        "    print('\\nstarting', h.status().name)"
      ],
      "metadata": {
        "id": "UuPAl-AM2git"
      },
      "execution_count": null,
      "outputs": []
    },
    {
      "cell_type": "markdown",
      "source": [
        "## 4. Download File"
      ],
      "metadata": {
        "id": "kYrIXnaB3Flx"
      }
    },
    {
      "cell_type": "code",
      "source": [
        "import time\n",
        "import sys\n",
        "\n",
        "while (not h.status().is_seeding):\n",
        "    s = h.status()\n",
        "\n",
        "    print('\\r%.2f%% complete (down: %.1f kB/s up: %.1f kB/s peers: %d) %s %s' % (\n",
        "        s.progress * 100, s.download_rate / 1000, s.upload_rate / 1000,\n",
        "        s.num_peers, s.state, s.name), end='')\n",
        "\n",
        "    # alerts = ses.pop_alerts()\n",
        "    # for a in alerts:\n",
        "    #     if a.category() & lt.alert.category_t.error_notification:\n",
        "    #         print(a)\n",
        "\n",
        "    sys.stdout.flush()\n",
        "\n",
        "    time.sleep(1)\n",
        "\n",
        "print('\\n', h.status().name, 'complete')"
      ],
      "metadata": {
        "id": "L-VEYJy73Iry"
      },
      "execution_count": null,
      "outputs": []
    }
  ]
}