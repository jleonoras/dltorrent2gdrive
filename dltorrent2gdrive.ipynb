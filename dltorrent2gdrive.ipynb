{
  "cells": [
    {
      "cell_type": "markdown",
      "metadata": {
        "id": "view-in-github",
        "colab_type": "text"
      },
      "source": [
        "<a href=\"https://colab.research.google.com/github/jleonoras/dltorrent2gdrive/blob/main/dltorrent2gdrive.ipynb\" target=\"_parent\"><img src=\"https://colab.research.google.com/assets/colab-badge.svg\" alt=\"Open In Colab\"/></a>"
      ]
    },
    {
      "cell_type": "markdown",
      "metadata": {
        "id": "TbAJETTlzaYQ"
      },
      "source": [
        "# Download Torrent to Google Drive"
      ]
    },
    {
      "cell_type": "markdown",
      "metadata": {
        "id": "c_T2GOpTz8_5"
      },
      "source": [
        "### 1. Install Dependency"
      ]
    },
    {
      "cell_type": "code",
      "execution_count": null,
      "metadata": {
        "id": "sYbnf6eAzOO2"
      },
      "outputs": [],
      "source": [
        "# 🛠️ Install packages\n",
        "!python -m pip install --upgrade pip setuptools wheel\n",
        "!python -m pip install lbry-libtorrent\n",
        "!apt install python3-libtorrent -y\n",
        "\n",
        "import libtorrent as lt\n",
        "\n",
        "# Start libtorrent session\n",
        "ses = lt.session()\n",
        "ses.listen_on(6881, 6891)\n",
        "\n",
        "print(\"\\n🚀 Libtorrent session started!\")"
      ]
    },
    {
      "cell_type": "markdown",
      "metadata": {
        "id": "LasH_tqm0u79"
      },
      "source": [
        "### 2. Mount Google Drive"
      ]
    },
    {
      "cell_type": "code",
      "execution_count": null,
      "metadata": {
        "id": "XOyL0TRi0z7t"
      },
      "outputs": [],
      "source": [
        "from google.colab import drive, files\n",
        "\n",
        "# Mount Google Drive to save torrents\n",
        "drive.mount(\"/content/drive\")"
      ]
    },
    {
      "cell_type": "markdown",
      "metadata": {
        "id": "TmZF8Zgx1Ham"
      },
      "source": [
        "## 3. Add Torrent Source\n",
        "\n"
      ]
    },
    {
      "cell_type": "code",
      "execution_count": null,
      "metadata": {
        "id": "UuPAl-AM2git"
      },
      "outputs": [],
      "source": [
        "import os\n",
        "\n",
        "# Create save path\n",
        "save_path = '/content/drive/MyDrive/Torrents/Movies'\n",
        "os.makedirs(save_path, exist_ok=True)\n",
        "\n",
        "# Initialize list of downloads\n",
        "downloads = []\n",
        "\n",
        "# Add torrents from multiple magnet links or .torrent files\n",
        "while True:\n",
        "    source = input(\"🔗 Enter a magnet link or type 'file' to upload a .torrent file or 'exit' to stop: \")\n",
        "\n",
        "    if source.lower() == 'exit':\n",
        "        print(\"\\n👋 Exiting input mode.\")\n",
        "        break\n",
        "\n",
        "    elif source.lower() == 'file':\n",
        "        print(\"📁 Uploading a .torrent file...\")\n",
        "        uploaded = files.upload()\n",
        "        if uploaded:\n",
        "            torrent_file = list(uploaded.keys())[0]\n",
        "            try:\n",
        "                info = lt.torrent_info(torrent_file)\n",
        "                h = ses.add_torrent({'ti': info, 'save_path': save_path})\n",
        "                downloads.append(h)\n",
        "                print(f\"\\n🎬 Starting: {h.status().name}\")\n",
        "            except Exception as e:\n",
        "                print(f\"⚠️ Error loading torrent: {e}\")\n",
        "        else:\n",
        "            print(\"⚠️ No file uploaded.\")\n",
        "\n",
        "    elif source.startswith(\"magnet:?xt=\"):\n",
        "        print(\"\\n🔗 Adding magnet link...\")\n",
        "        try:\n",
        "            params = lt.parse_magnet_uri(source)\n",
        "            params.save_path = save_path\n",
        "            h = ses.add_torrent(params)\n",
        "            downloads.append(h)\n",
        "            print(f\"\\n🎬 Starting: {h.status().name}\")\n",
        "        except Exception as e:\n",
        "            print(f\"⚠️ Invalid magnet link: {e}\")\n",
        "    else:\n",
        "        print(\"❌ Invalid input. Try again.\")"
      ]
    },
    {
      "cell_type": "markdown",
      "metadata": {
        "id": "kYrIXnaB3Flx"
      },
      "source": [
        "## 4. Download File"
      ]
    },
    {
      "cell_type": "code",
      "execution_count": null,
      "metadata": {
        "id": "L-VEYJy73Iry"
      },
      "outputs": [],
      "source": [
        "import time\n",
        "from IPython.display import clear_output\n",
        "\n",
        "# Lists\n",
        "ongoing_downloads = downloads\n",
        "completed_downloads = []\n",
        "\n",
        "# ⏳ Monitor downloads\n",
        "while ongoing_downloads:\n",
        "    clear_output(wait=True)\n",
        "    next_iteration_downloads = []\n",
        "    display_list = []\n",
        "\n",
        "    # Collect display strings and organize\n",
        "    for download in ongoing_downloads:\n",
        "        s = download.status()\n",
        "\n",
        "        # 🌀 State strings\n",
        "        state_str = [\n",
        "            'queued',\n",
        "            'checking',\n",
        "            'downloading metadata',\n",
        "            'downloading',\n",
        "            'finished',\n",
        "            'seeding',\n",
        "            'allocating',\n",
        "            'checking fastresume'\n",
        "        ]\n",
        "        state = state_str[s.state] if s.state < len(state_str) else \"unknown\"\n",
        "\n",
        "        # ETA calculation with hours\n",
        "        if s.download_rate > 0 and s.total_wanted > 0:\n",
        "            eta_seconds = (s.total_wanted - s.total_done) / s.download_rate\n",
        "            hours = int(eta_seconds) // 3600  # Calculate hours\n",
        "            minutes = (int(eta_seconds) % 3600) // 60  # Calculate minutes\n",
        "            seconds = int(eta_seconds) % 60  # Calculate remaining seconds\n",
        "\n",
        "            if hours > 0:\n",
        "                eta_str = f\"ETA: {hours}h {minutes}m {seconds}s\"\n",
        "            elif minutes > 0:\n",
        "                eta_str = f\"ETA: {minutes}m {seconds}s\"\n",
        "            else:\n",
        "                eta_str = f\"ETA: {seconds}s\"\n",
        "        else:\n",
        "            eta_str = \"ETA: ∞\"\n",
        "\n",
        "        if s.is_seeding:\n",
        "            display_list.insert(0, f'🎬 {s.name} ✅ {s.progress * 100:.2f}% complete! 🌀 seeding ⬇️ 0.0 kB/s ⬆️ {s.upload_rate / 1000:.1f} kB/s 👥 peers: {s.num_peers}')\n",
        "            completed_downloads.append(download)\n",
        "        else:\n",
        "            display_list.append(f'🎬 {s.name} ⬇️ {s.progress * 100:.2f}% ⏳ {eta_str} 🌀 {state} ⬇️ {s.download_rate / 1000:.1f} kB/s ⬆️ {s.upload_rate / 1000:.1f} kB/s 👥 peers: {s.num_peers}')\n",
        "            next_iteration_downloads.append(download)\n",
        "\n",
        "    # Display the download status in sorted order\n",
        "    for line in display_list:\n",
        "        print(line)\n",
        "\n",
        "    # Update ongoing downloads\n",
        "    ongoing_downloads = next_iteration_downloads\n",
        "    time.sleep(1)"
      ]
    }
  ],
  "metadata": {
    "colab": {
      "provenance": [],
      "toc_visible": true,
      "include_colab_link": true
    },
    "kernelspec": {
      "display_name": "Python 3",
      "name": "python3"
    },
    "language_info": {
      "name": "python"
    }
  },
  "nbformat": 4,
  "nbformat_minor": 0
}